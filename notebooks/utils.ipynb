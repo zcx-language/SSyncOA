{
 "cells": [
  {
   "cell_type": "code",
   "execution_count": 2,
   "outputs": [],
   "source": [
    "import numpy as np\n",
    "import torch\n",
    "from pathlib import Path\n",
    "from PIL import Image\n",
    "from matplotlib import pyplot as plt\n",
    "from segment_anything import SamPredictor, sam_model_registry\n",
    "\n",
    "%matplotlib inline"
   ],
   "metadata": {
    "collapsed": false,
    "ExecuteTime": {
     "end_time": "2023-05-22T03:30:55.454380361Z",
     "start_time": "2023-05-22T03:30:53.706965241Z"
    }
   }
  },
  {
   "cell_type": "markdown",
   "source": [
    "## Survey on CoCo-stuff"
   ],
   "metadata": {
    "collapsed": false
   }
  },
  {
   "cell_type": "code",
   "execution_count": 3,
   "outputs": [],
   "source": [
    "data_dir = '/sda1/Datasets/CoCo'\n",
    "\n",
    "ann_dir = data_dir + '/annotations'\n",
    "train_ann_dir = ann_dir + '/train2017'\n",
    "valid_ann_dir = ann_dir + '/val2017'\n",
    "\n",
    "img_dir = data_dir + '/images'\n",
    "train_img_dir = img_dir + '/train2017'\n",
    "valid_img_dir = img_dir + '/val2017'"
   ],
   "metadata": {
    "collapsed": false,
    "ExecuteTime": {
     "end_time": "2023-05-22T03:30:56.904598765Z",
     "start_time": "2023-05-22T03:30:56.890393164Z"
    }
   }
  },
  {
   "cell_type": "code",
   "execution_count": 4,
   "outputs": [
    {
     "name": "stdout",
     "output_type": "stream",
     "text": [
      "/sda1/Datasets/CoCo/annotations/train2017\n",
      "118287\n"
     ]
    }
   ],
   "source": [
    "print(train_ann_dir)\n",
    "train_ann_img = sorted(Path(train_ann_dir).glob('*.png'))\n",
    "print(len(train_ann_img))"
   ],
   "metadata": {
    "collapsed": false,
    "ExecuteTime": {
     "end_time": "2023-05-22T03:30:58.650841134Z",
     "start_time": "2023-05-22T03:30:57.463366191Z"
    }
   }
  },
  {
   "cell_type": "code",
   "execution_count": 7,
   "outputs": [
    {
     "name": "stdout",
     "output_type": "stream",
     "text": [
      "(640, 480) [ 50  54  55 120 142 164 255]\n",
      "(640, 426) [ 24 105 123 125 168 181 255]\n",
      "(640, 428) [ 63  85 118 123 141 171 255]\n",
      "(640, 425) [ 23 123 255]\n",
      "(481, 640) [  0  27 104 147 154 156 168 255]\n",
      "(640, 478) [ 17 104 114 116 131 171 255]\n",
      "(381, 500) [  0  18  63 112 123 156 162 168 255]\n",
      "(640, 488) [  0  21 122 141 255]\n",
      "(480, 640) [  2   7  12  84  96 102 139 141 148 156 168 171 174 180 255]\n",
      "(640, 426) [  2   6   7  94  95 114 127 139 143 146 148 150 156 168 255]\n"
     ]
    }
   ],
   "source": [
    "for path in train_ann_img[:10]:\n",
    "    mask = Image.open(path).convert('L')\n",
    "    print(mask.size, np.unique(mask))"
   ],
   "metadata": {
    "collapsed": false,
    "ExecuteTime": {
     "end_time": "2023-05-22T07:30:07.450286285Z",
     "start_time": "2023-05-22T07:30:07.401005021Z"
    }
   }
  },
  {
   "cell_type": "code",
   "execution_count": null,
   "outputs": [],
   "source": [],
   "metadata": {
    "collapsed": false
   }
  }
 ],
 "metadata": {
  "kernelspec": {
   "display_name": "Python 3",
   "language": "python",
   "name": "python3"
  },
  "language_info": {
   "codemirror_mode": {
    "name": "ipython",
    "version": 2
   },
   "file_extension": ".py",
   "mimetype": "text/x-python",
   "name": "python",
   "nbconvert_exporter": "python",
   "pygments_lexer": "ipython2",
   "version": "2.7.6"
  }
 },
 "nbformat": 4,
 "nbformat_minor": 0
}
