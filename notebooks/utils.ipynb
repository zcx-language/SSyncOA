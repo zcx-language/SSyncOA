{
 "cells": [
  {
   "cell_type": "code",
   "execution_count": 8,
   "outputs": [],
   "source": [
    "import cv2\n",
    "import numpy as np\n",
    "import torch\n",
    "from tqdm import tqdm\n",
    "from pathlib import Path\n",
    "from PIL import Image\n",
    "from matplotlib import pyplot as plt\n",
    "from segment_anything import SamPredictor, sam_model_registry\n",
    "\n",
    "%matplotlib inline"
   ],
   "metadata": {
    "collapsed": false,
    "ExecuteTime": {
     "end_time": "2023-09-05T11:40:12.514590676Z",
     "start_time": "2023-09-05T11:40:12.497874407Z"
    }
   }
  },
  {
   "cell_type": "markdown",
   "source": [
    "## Survey on CoCo-stuff"
   ],
   "metadata": {
    "collapsed": false
   }
  },
  {
   "cell_type": "code",
   "execution_count": 3,
   "outputs": [],
   "source": [
    "data_dir = '/sda1/Datasets/CoCo'\n",
    "\n",
    "ann_dir = data_dir + '/annotations'\n",
    "train_ann_dir = ann_dir + '/train2017'\n",
    "valid_ann_dir = ann_dir + '/val2017'\n",
    "\n",
    "img_dir = data_dir + '/images'\n",
    "train_img_dir = img_dir + '/train2017'\n",
    "valid_img_dir = img_dir + '/val2017'"
   ],
   "metadata": {
    "collapsed": false,
    "ExecuteTime": {
     "end_time": "2023-05-22T03:30:56.904598765Z",
     "start_time": "2023-05-22T03:30:56.890393164Z"
    }
   }
  },
  {
   "cell_type": "code",
   "execution_count": 4,
   "outputs": [
    {
     "name": "stdout",
     "output_type": "stream",
     "text": [
      "/sda1/Datasets/CoCo/annotations/train2017\n",
      "118287\n"
     ]
    }
   ],
   "source": [
    "print(train_ann_dir)\n",
    "train_ann_img = sorted(Path(train_ann_dir).glob('*.png'))\n",
    "print(len(train_ann_img))"
   ],
   "metadata": {
    "collapsed": false,
    "ExecuteTime": {
     "end_time": "2023-05-22T03:30:58.650841134Z",
     "start_time": "2023-05-22T03:30:57.463366191Z"
    }
   }
  },
  {
   "cell_type": "code",
   "execution_count": 7,
   "outputs": [
    {
     "name": "stdout",
     "output_type": "stream",
     "text": [
      "(640, 480) [ 50  54  55 120 142 164 255]\n",
      "(640, 426) [ 24 105 123 125 168 181 255]\n",
      "(640, 428) [ 63  85 118 123 141 171 255]\n",
      "(640, 425) [ 23 123 255]\n",
      "(481, 640) [  0  27 104 147 154 156 168 255]\n",
      "(640, 478) [ 17 104 114 116 131 171 255]\n",
      "(381, 500) [  0  18  63 112 123 156 162 168 255]\n",
      "(640, 488) [  0  21 122 141 255]\n",
      "(480, 640) [  2   7  12  84  96 102 139 141 148 156 168 171 174 180 255]\n",
      "(640, 426) [  2   6   7  94  95 114 127 139 143 146 148 150 156 168 255]\n"
     ]
    }
   ],
   "source": [
    "for path in train_ann_img[:10]:\n",
    "    mask = Image.open(path).convert('L')\n",
    "    print(mask.size, np.unique(mask))"
   ],
   "metadata": {
    "collapsed": false,
    "ExecuteTime": {
     "end_time": "2023-05-22T07:30:07.450286285Z",
     "start_time": "2023-05-22T07:30:07.401005021Z"
    }
   }
  },
  {
   "cell_type": "markdown",
   "source": [
    "## Filter DUTS dataset according to the mask area size"
   ],
   "metadata": {
    "collapsed": false
   }
  },
  {
   "cell_type": "code",
   "execution_count": 7,
   "outputs": [],
   "source": [
    "import shutil\n",
    "\n",
    "img_dir = '/sda1/Datasets/DUTS/DUTS-TE/Std-Image'\n",
    "mask_dir = '/sda1/Datasets/DUTS/DUTS-TE/Std-Mask'\n",
    "\n",
    "img_paths = sorted(Path(img_dir).glob('*.jpg'))\n",
    "mask_paths = sorted(Path(mask_dir).glob('*.png'))\n",
    "\n",
    "for img_path, mask_path in zip(img_paths, mask_paths):\n",
    "    img = cv2.imread(str(img_path))\n",
    "    mask = cv2.imread(str(mask_path), cv2.IMREAD_GRAYSCALE)\n",
    "    mask = mask / 255\n",
    "    if np.sum(mask) > mask.shape[0] * mask.shape[1] * 0.25:\n",
    "        shutil.copy(str(img_path), f'/sda1/Datasets/DUTS/DUTS-TE/Std-Image-30/{img_path.name}')\n",
    "        shutil.copy(str(mask_path), f'/sda1/Datasets/DUTS/DUTS-TE/Std-Mask-30/{mask_path.name}')"
   ],
   "metadata": {
    "collapsed": false,
    "ExecuteTime": {
     "end_time": "2023-07-18T09:11:59.051858331Z",
     "start_time": "2023-07-18T09:11:48.471708468Z"
    }
   }
  },
  {
   "cell_type": "markdown",
   "source": [
    "## Draw contours with red color"
   ],
   "metadata": {
    "collapsed": false
   }
  },
  {
   "cell_type": "code",
   "execution_count": 7,
   "outputs": [
    {
     "data": {
      "text/plain": "True"
     },
     "execution_count": 7,
     "metadata": {},
     "output_type": "execute_result"
    }
   ],
   "source": [
    "import cv2\n",
    "import numpy as np\n",
    "\n",
    "img_path = '/sda1/Datasets/DUTS/DUTS-TE/DUTS-TE-Image/ILSVRC2012_test_00000025.jpg'\n",
    "mask_path = '/sda1/Datasets/DUTS/DUTS-TE/DUTS-TE-Mask/ILSVRC2012_test_00000025.png'\n",
    "img = cv2.imread(img_path)\n",
    "mask = cv2.cvtColor(cv2.imread(mask_path), cv2.COLOR_BGR2GRAY)\n",
    "\n",
    "mask = cv2.threshold(mask, 127, 1, cv2.THRESH_BINARY)[1]\n",
    "\n",
    "masked_img = np.stack([mask, mask, mask], axis=-1) * img\n",
    "cv2.imwrite('/home/chengxin/Documents/Nutstore/Publication/ObjectWatermark/figs/masked_img.png', masked_img, [cv2.IMWRITE_PNG_COMPRESSION, 0])"
   ],
   "metadata": {
    "collapsed": false,
    "ExecuteTime": {
     "end_time": "2023-07-24T13:27:57.940671342Z",
     "start_time": "2023-07-24T13:27:57.908424215Z"
    }
   }
  },
  {
   "cell_type": "code",
   "execution_count": 1,
   "outputs": [],
   "source": [
    "## Add whole Mask into the DUTS dataset"
   ],
   "metadata": {
    "collapsed": false,
    "ExecuteTime": {
     "end_time": "2023-08-30T09:27:04.835627490Z",
     "start_time": "2023-08-30T09:27:04.829271612Z"
    }
   }
  },
  {
   "cell_type": "code",
   "execution_count": 5,
   "outputs": [],
   "source": [
    "from pathlib import Path\n",
    "from PIL import Image\n",
    "import numpy as np"
   ],
   "metadata": {
    "collapsed": false,
    "ExecuteTime": {
     "end_time": "2023-08-30T09:32:47.407496385Z",
     "start_time": "2023-08-30T09:32:47.262312846Z"
    }
   }
  },
  {
   "cell_type": "code",
   "execution_count": 3,
   "outputs": [
    {
     "name": "stdout",
     "output_type": "stream",
     "text": [
      "100\n"
     ]
    }
   ],
   "source": [
    "img_dir = '/sda1/Datasets/DUTS/DUTS-TR/Std-Image-30-All/'\n",
    "img_paths = sorted(Path(img_dir).glob('*.jpg'))\n",
    "print(len(img_paths))"
   ],
   "metadata": {
    "collapsed": false,
    "ExecuteTime": {
     "end_time": "2023-08-30T09:30:45.432633778Z",
     "start_time": "2023-08-30T09:30:45.365913131Z"
    }
   }
  },
  {
   "cell_type": "code",
   "execution_count": 4,
   "outputs": [],
   "source": [
    "for path in img_paths:\n",
    "    img = Image.open(path).convert('RGB')\n",
    "    img = img.resize((256, 256))\n",
    "    img.save(path)"
   ],
   "metadata": {
    "collapsed": false,
    "ExecuteTime": {
     "end_time": "2023-08-30T09:31:32.786485526Z",
     "start_time": "2023-08-30T09:31:32.168851261Z"
    }
   }
  },
  {
   "cell_type": "code",
   "execution_count": 6,
   "outputs": [],
   "source": [
    "one_mask = np.ones((256, 256), dtype=np.uint8)\n",
    "for i in range(100):\n",
    "    Image.fromarray(one_mask * 255).save(f'/sda1/Datasets/DUTS/DUTS-TR/Std-Mask-30-All/im{i+1}.png')"
   ],
   "metadata": {
    "collapsed": false,
    "ExecuteTime": {
     "end_time": "2023-08-30T09:34:46.161102072Z",
     "start_time": "2023-08-30T09:34:46.077367542Z"
    }
   }
  },
  {
   "cell_type": "markdown",
   "source": [
    "## Divide the DUTS Dataset according to the object size "
   ],
   "metadata": {
    "collapsed": false
   }
  },
  {
   "cell_type": "code",
   "execution_count": 5,
   "outputs": [],
   "source": [
    "import shutil\n",
    "\n",
    "data_type = 'DUTS-TE'\n",
    "\n",
    "img_dir = f'/sda1/Datasets/DUTS/{data_type}/Std-Image'\n",
    "mask_dir = f'/sda1/Datasets/DUTS/{data_type}/Std-Mask'\n",
    "\n",
    "img_paths = sorted(Path(img_dir).glob('*.jpg'))\n",
    "mask_paths = sorted(Path(mask_dir).glob('*.png'))\n",
    "\n",
    "for img_path, mask_path in zip(img_paths, mask_paths):\n",
    "    mask = cv2.imread(str(mask_path), cv2.IMREAD_GRAYSCALE)\n",
    "    mask = cv2.threshold(mask, 127, 255, cv2.THRESH_BINARY)[1]\n",
    "    ratio = np.mean(mask/255) * 100\n",
    "    if ratio <= 10:\n",
    "        shutil.copy(str(img_path), f'/sda1/Datasets/DUTS/{data_type}/Levels/0-10/Image/{img_path.name}')\n",
    "        shutil.copy(str(mask_path), f'/sda1/Datasets/DUTS/{data_type}/Levels/0-10/Mask/{mask_path.name}')\n",
    "    elif ratio <= 20:\n",
    "        shutil.copy(str(img_path), f'/sda1/Datasets/DUTS/{data_type}/Levels/10-20/Image/{img_path.name}')\n",
    "        shutil.copy(str(mask_path), f'/sda1/Datasets/DUTS/{data_type}/Levels/10-20/Mask/{mask_path.name}')\n",
    "    elif ratio <= 30:\n",
    "        shutil.copy(str(img_path), f'/sda1/Datasets/DUTS/{data_type}/Levels/20-30/Image/{img_path.name}')\n",
    "        shutil.copy(str(mask_path), f'/sda1/Datasets/DUTS/{data_type}/Levels/20-30/Mask/{mask_path.name}')\n",
    "    elif ratio <= 40:\n",
    "        shutil.copy(str(img_path), f'/sda1/Datasets/DUTS/{data_type}/Levels/30-40/Image/{img_path.name}')\n",
    "        shutil.copy(str(mask_path), f'/sda1/Datasets/DUTS/{data_type}/Levels/30-40/Mask/{mask_path.name}')\n",
    "    elif ratio <= 50:\n",
    "        shutil.copy(str(img_path), f'/sda1/Datasets/DUTS/{data_type}/Levels/40-50/Image/{img_path.name}')\n",
    "        shutil.copy(str(mask_path), f'/sda1/Datasets/DUTS/{data_type}/Levels/40-50/Mask/{mask_path.name}')\n",
    "    elif ratio <= 60:\n",
    "        shutil.copy(str(img_path), f'/sda1/Datasets/DUTS/{data_type}/Levels/50-60/Image/{img_path.name}')\n",
    "        shutil.copy(str(mask_path), f'/sda1/Datasets/DUTS/{data_type}/Levels/50-60/Mask/{mask_path.name}')\n",
    "    elif ratio <= 70:\n",
    "        shutil.copy(str(img_path), f'/sda1/Datasets/DUTS/{data_type}/Levels/60-70/Image/{img_path.name}')\n",
    "        shutil.copy(str(mask_path), f'/sda1/Datasets/DUTS/{data_type}/Levels/60-70/Mask/{mask_path.name}')\n",
    "    elif ratio <= 80:\n",
    "        shutil.copy(str(img_path), f'/sda1/Datasets/DUTS/{data_type}/Levels/70-80/Image/{img_path.name}')\n",
    "        shutil.copy(str(mask_path), f'/sda1/Datasets/DUTS/{data_type}/Levels/70-80/Mask/{mask_path.name}')\n",
    "    elif ratio <= 90:\n",
    "        shutil.copy(str(img_path), f'/sda1/Datasets/DUTS/{data_type}/Levels/80-90/Image/{img_path.name}')\n",
    "        shutil.copy(str(mask_path), f'/sda1/Datasets/DUTS/{data_type}/Levels/80-90/Mask/{mask_path.name}')\n",
    "    else:\n",
    "        shutil.copy(str(img_path), f'/sda1/Datasets/DUTS/{data_type}/Levels/90-100/Image/{img_path.name}')\n",
    "        shutil.copy(str(mask_path), f'/sda1/Datasets/DUTS/{data_type}/Levels/90-100/Mask/{mask_path.name}')"
   ],
   "metadata": {
    "collapsed": false,
    "ExecuteTime": {
     "end_time": "2023-09-05T07:10:16.106814742Z",
     "start_time": "2023-09-05T07:10:08.078373946Z"
    }
   }
  },
  {
   "cell_type": "markdown",
   "source": [
    "## Resize all image into 128 * 128"
   ],
   "metadata": {
    "collapsed": false
   }
  },
  {
   "cell_type": "code",
   "execution_count": 13,
   "outputs": [
    {
     "name": "stderr",
     "output_type": "stream",
     "text": [
      "100%|██████████| 2396/2396 [00:04<00:00, 489.21it/s]\n"
     ]
    }
   ],
   "source": [
    "import shutil\n",
    "\n",
    "image_dir = '/sda1/Datasets/DUTS/DUTS-TE/Std-Image-30/256'\n",
    "output_dir = '/sda1/Datasets/DUTS/DUTS-TE/Std-Image-30/128'\n",
    "\n",
    "image_paths = sorted(Path(image_dir).glob('*.jpg'))\n",
    "\n",
    "for image_path in tqdm(image_paths):\n",
    "    img = Image.open(image_path).convert('RGB')\n",
    "    # img = Image.open(image_path).convert('L')\n",
    "    img = img.resize((128, 128))\n",
    "    # img.save(f'{output_dir}/{image_path.name}', compress_level=0)\n",
    "    img.save(f'{output_dir}/{image_path.name}', quality=95)"
   ],
   "metadata": {
    "collapsed": false,
    "ExecuteTime": {
     "end_time": "2023-09-05T11:50:07.268503557Z",
     "start_time": "2023-09-05T11:50:02.337719256Z"
    }
   }
  },
  {
   "cell_type": "code",
   "execution_count": null,
   "outputs": [],
   "source": [],
   "metadata": {
    "collapsed": false
   }
  }
 ],
 "metadata": {
  "kernelspec": {
   "display_name": "Python 3",
   "language": "python",
   "name": "python3"
  },
  "language_info": {
   "codemirror_mode": {
    "name": "ipython",
    "version": 2
   },
   "file_extension": ".py",
   "mimetype": "text/x-python",
   "name": "python",
   "nbconvert_exporter": "python",
   "pygments_lexer": "ipython2",
   "version": "2.7.6"
  }
 },
 "nbformat": 4,
 "nbformat_minor": 0
}
